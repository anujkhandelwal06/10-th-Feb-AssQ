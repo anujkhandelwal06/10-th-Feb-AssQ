{
 "cells": [
  {
   "cell_type": "code",
   "execution_count": 8,
   "id": "ae1efa8d-5a85-4772-80df-c84ee72b558f",
   "metadata": {},
   "outputs": [],
   "source": [
    "# Q1. Which function is used to open a file? What are the different modes of opening a file? Explain each mode of file opening.\n",
    "\n",
    "#In python, the built in function used to open afile is 'open()'.it takes to arguments:the path of the file and the mode in which the file should be opened\n",
    "#Different modes of file opening:\n",
    "\n",
    "#'w': open for writing ,trucating the file first \n",
    "#'x': create a new file and open it for writing\n",
    "#'a': open for writing ,appending to the end of the file if it exits\n",
    "#'b': Binary mode\n",
    "#'t': text mode(default)\n",
    "#'+': open a disk fille for uploading(reading and writing)\n",
    "#'U': Universal newline mode (deprecated)\n"
   ]
  },
  {
   "cell_type": "code",
   "execution_count": 9,
   "id": "82915469-ca2b-4514-af77-aaa3632b2e4f",
   "metadata": {},
   "outputs": [],
   "source": [
    "# Q2. Why close() function is used? Why is it important to close a file?\n",
    "\n",
    "# The 'close()' function is used to close the file in python.Important to close a file once you are done reading and writing to it, as it releases any system resources held by the file and ensure that\n",
    "# any data that was buffered in memory is written to the file.When a file is opened, the operating system allocates some resources, such as file descriptors, to manage the file. These resources are limited and should be used judiciously.\n",
    "#If you don't close a file after using it, the resources used by the file will remain allocated, which can cause problems such as:\n",
    "# 1.Resource leakage\n",
    "# 2.Data loss\n",
    "# 3.File corruption\n",
    "\n"
   ]
  },
  {
   "cell_type": "code",
   "execution_count": 10,
   "id": "bf70a688-b260-4aac-b606-006a6e59df8f",
   "metadata": {},
   "outputs": [],
   "source": [
    "# Q3. Write a python program to create a text file. Write ‘I want to become a Data Scientist’ in that file. Then close the file. Open this file and read the content of the file.  \n",
    "\n",
    "file = open(\"data_scientist.txt\",\"w\")\n",
    "file.write(\"I want to become a Data Scientist\")\n",
    "file.close()"
   ]
  },
  {
   "cell_type": "code",
   "execution_count": 11,
   "id": "dae8556a-7c27-43ee-9137-7b427ac008f9",
   "metadata": {},
   "outputs": [
    {
     "name": "stdout",
     "output_type": "stream",
     "text": [
      "I want to become a Data Scientist\n"
     ]
    }
   ],
   "source": [
    "file = open(\"data_scientist.txt\",\"r\")\n",
    "content = file.read()\n",
    "print(content)"
   ]
  },
  {
   "cell_type": "code",
   "execution_count": 12,
   "id": "a62c073a-f87a-4f4b-bbd0-69bd32f63421",
   "metadata": {},
   "outputs": [
    {
     "name": "stdout",
     "output_type": "stream",
     "text": [
      "I want to become a Data Scientist\n"
     ]
    }
   ],
   "source": [
    "# Q4. Explain the following with python code: read(), readline() and readlines()\n",
    "\n",
    "#read(), readline(), and readlines() are methods used for reading data from a file in Python\n",
    "\n",
    "# 1.\"read()\":reads the entire contents of a file into a string.This method returns a string that contains the entire contents of the file,including any newline characters that may be present\n",
    "file = open(\"data_scientist.txt\",\"r\")\n",
    "content = file.read()\n",
    "print(content)\n",
    "file.close()"
   ]
  },
  {
   "cell_type": "code",
   "execution_count": 13,
   "id": "51435b17-7ef6-45ae-9169-714e2db358b7",
   "metadata": {},
   "outputs": [
    {
     "name": "stdout",
     "output_type": "stream",
     "text": [
      "I want to become a Data Scientist\n"
     ]
    }
   ],
   "source": [
    "# 2 .\"readline()\": reads a single line from a file. This method returns a string that contains the next line of text from the file, up to and including the newline character at the end of the line. If the end of the file is reached, an empty string is returned.\n",
    "file = open(\"data_scientist.txt\", \"r\")\n",
    "line = file.readline()\n",
    "print(line)\n",
    "line = file.readline()"
   ]
  },
  {
   "cell_type": "code",
   "execution_count": 14,
   "id": "cdd56ce0-7ed2-40e2-8239-4c6733f502cb",
   "metadata": {},
   "outputs": [],
   "source": [
    "# 3.\"readlines()\": reads all the lines of a file into a list. This method returns a list of strings, where each string represents a single line of text from the file.\n",
    "file = open(\"data_scientist.txt\", \"r\")\n",
    "lines = file.readlines()\n",
    "file.close()"
   ]
  },
  {
   "cell_type": "code",
   "execution_count": 15,
   "id": "fbd2b7f1-623d-487d-9c6b-c02da5b937e1",
   "metadata": {},
   "outputs": [
    {
     "ename": "FileNotFoundError",
     "evalue": "[Errno 2] No such file or directory: 'example.txt'",
     "output_type": "error",
     "traceback": [
      "\u001b[0;31m---------------------------------------------------------------------------\u001b[0m",
      "\u001b[0;31mFileNotFoundError\u001b[0m                         Traceback (most recent call last)",
      "Cell \u001b[0;32mIn[15], line 10\u001b[0m\n\u001b[1;32m      1\u001b[0m \u001b[38;5;66;03m#Q5. Explain why with statement is used with open(). What is the advantage of using with statement and open() together?\u001b[39;00m\n\u001b[1;32m      2\u001b[0m \n\u001b[1;32m      3\u001b[0m \u001b[38;5;66;03m#The with statement is used with the open() function in Python to ensure that a file is properly opened and closed after it has been used.\u001b[39;00m\n\u001b[0;32m   (...)\u001b[0m\n\u001b[1;32m      7\u001b[0m \u001b[38;5;66;03m#The with statement creates a context in which the file is opened and used, and then automatically closes the file after the block of code inside the with statement has executed. \u001b[39;00m\n\u001b[1;32m      8\u001b[0m \u001b[38;5;66;03m#This is done by defining a \"context manager\" for the open() function, which takes care of the opening and closing of the file.\u001b[39;00m\n\u001b[0;32m---> 10\u001b[0m file \u001b[38;5;241m=\u001b[39m \u001b[38;5;28;43mopen\u001b[39;49m\u001b[43m(\u001b[49m\u001b[38;5;124;43m\"\u001b[39;49m\u001b[38;5;124;43mexample.txt\u001b[39;49m\u001b[38;5;124;43m\"\u001b[39;49m\u001b[43m,\u001b[49m\u001b[43m \u001b[49m\u001b[38;5;124;43m\"\u001b[39;49m\u001b[38;5;124;43mr\u001b[39;49m\u001b[38;5;124;43m\"\u001b[39;49m\u001b[43m)\u001b[49m\n\u001b[1;32m     11\u001b[0m data \u001b[38;5;241m=\u001b[39m file\u001b[38;5;241m.\u001b[39mread()\n\u001b[1;32m     12\u001b[0m file\u001b[38;5;241m.\u001b[39mclose()\n",
      "File \u001b[0;32m/opt/conda/lib/python3.10/site-packages/IPython/core/interactiveshell.py:282\u001b[0m, in \u001b[0;36m_modified_open\u001b[0;34m(file, *args, **kwargs)\u001b[0m\n\u001b[1;32m    275\u001b[0m \u001b[38;5;28;01mif\u001b[39;00m file \u001b[38;5;129;01min\u001b[39;00m {\u001b[38;5;241m0\u001b[39m, \u001b[38;5;241m1\u001b[39m, \u001b[38;5;241m2\u001b[39m}:\n\u001b[1;32m    276\u001b[0m     \u001b[38;5;28;01mraise\u001b[39;00m \u001b[38;5;167;01mValueError\u001b[39;00m(\n\u001b[1;32m    277\u001b[0m         \u001b[38;5;124mf\u001b[39m\u001b[38;5;124m\"\u001b[39m\u001b[38;5;124mIPython won\u001b[39m\u001b[38;5;124m'\u001b[39m\u001b[38;5;124mt let you open fd=\u001b[39m\u001b[38;5;132;01m{\u001b[39;00mfile\u001b[38;5;132;01m}\u001b[39;00m\u001b[38;5;124m by default \u001b[39m\u001b[38;5;124m\"\u001b[39m\n\u001b[1;32m    278\u001b[0m         \u001b[38;5;124m\"\u001b[39m\u001b[38;5;124mas it is likely to crash IPython. If you know what you are doing, \u001b[39m\u001b[38;5;124m\"\u001b[39m\n\u001b[1;32m    279\u001b[0m         \u001b[38;5;124m\"\u001b[39m\u001b[38;5;124myou can use builtins\u001b[39m\u001b[38;5;124m'\u001b[39m\u001b[38;5;124m open.\u001b[39m\u001b[38;5;124m\"\u001b[39m\n\u001b[1;32m    280\u001b[0m     )\n\u001b[0;32m--> 282\u001b[0m \u001b[38;5;28;01mreturn\u001b[39;00m \u001b[43mio_open\u001b[49m\u001b[43m(\u001b[49m\u001b[43mfile\u001b[49m\u001b[43m,\u001b[49m\u001b[43m \u001b[49m\u001b[38;5;241;43m*\u001b[39;49m\u001b[43margs\u001b[49m\u001b[43m,\u001b[49m\u001b[43m \u001b[49m\u001b[38;5;241;43m*\u001b[39;49m\u001b[38;5;241;43m*\u001b[39;49m\u001b[43mkwargs\u001b[49m\u001b[43m)\u001b[49m\n",
      "\u001b[0;31mFileNotFoundError\u001b[0m: [Errno 2] No such file or directory: 'example.txt'"
     ]
    }
   ],
   "source": [
    "#Q5. Explain why with statement is used with open(). What is the advantage of using with statement and open() together?\n",
    "\n",
    "#The with statement is used with the open() function in Python to ensure that a file is properly opened and closed after it has been used.\n",
    "#When a file is opened, system resources are allocated for the file, and if it is not properly closed after it has been used, those resources can be tied up unnecessarily. \n",
    "#This can cause problems for other programs or for the same program if it needs to access the file again.\n",
    "\n",
    "#The with statement creates a context in which the file is opened and used, and then automatically closes the file after the block of code inside the with statement has executed. \n",
    "#This is done by defining a \"context manager\" for the open() function, which takes care of the opening and closing of the file.\n",
    "\n",
    "file = open(\"example.txt\", \"r\")\n",
    "data = file.read()\n",
    "file.close()\n",
    "\n",
    "#This code opens a file, reads its contents, and then closes the file. However, if an error occurs between the open() and close() statements, such as if the read() function raises an exception, the file may not be closed properly, and system resources may be tied up unnecessarily."
   ]
  },
  {
   "cell_type": "code",
   "execution_count": 16,
   "id": "b5863a9e-b9c5-4eda-b665-fc79f29fffbd",
   "metadata": {},
   "outputs": [
    {
     "ename": "FileNotFoundError",
     "evalue": "[Errno 2] No such file or directory: 'example.txt'",
     "output_type": "error",
     "traceback": [
      "\u001b[0;31m---------------------------------------------------------------------------\u001b[0m",
      "\u001b[0;31mFileNotFoundError\u001b[0m                         Traceback (most recent call last)",
      "Cell \u001b[0;32mIn[16], line 1\u001b[0m\n\u001b[0;32m----> 1\u001b[0m \u001b[38;5;28;01mwith\u001b[39;00m \u001b[38;5;28;43mopen\u001b[39;49m\u001b[43m(\u001b[49m\u001b[38;5;124;43m\"\u001b[39;49m\u001b[38;5;124;43mexample.txt\u001b[39;49m\u001b[38;5;124;43m\"\u001b[39;49m\u001b[43m,\u001b[49m\u001b[43m \u001b[49m\u001b[38;5;124;43m\"\u001b[39;49m\u001b[38;5;124;43mr\u001b[39;49m\u001b[38;5;124;43m\"\u001b[39;49m\u001b[43m)\u001b[49m \u001b[38;5;28;01mas\u001b[39;00m file:\n\u001b[1;32m      2\u001b[0m     data \u001b[38;5;241m=\u001b[39m file\u001b[38;5;241m.\u001b[39mread()\n\u001b[1;32m      3\u001b[0m \u001b[38;5;66;03m#This code opens the file, reads its contents, and then automatically closes the file after the with statement has executed, even if an error occurs. \u001b[39;00m\n\u001b[1;32m      4\u001b[0m \u001b[38;5;66;03m#This helps to ensure that system resources are used efficiently and that the program is less likely to encounter problems related to file handling.\u001b[39;00m\n",
      "File \u001b[0;32m/opt/conda/lib/python3.10/site-packages/IPython/core/interactiveshell.py:282\u001b[0m, in \u001b[0;36m_modified_open\u001b[0;34m(file, *args, **kwargs)\u001b[0m\n\u001b[1;32m    275\u001b[0m \u001b[38;5;28;01mif\u001b[39;00m file \u001b[38;5;129;01min\u001b[39;00m {\u001b[38;5;241m0\u001b[39m, \u001b[38;5;241m1\u001b[39m, \u001b[38;5;241m2\u001b[39m}:\n\u001b[1;32m    276\u001b[0m     \u001b[38;5;28;01mraise\u001b[39;00m \u001b[38;5;167;01mValueError\u001b[39;00m(\n\u001b[1;32m    277\u001b[0m         \u001b[38;5;124mf\u001b[39m\u001b[38;5;124m\"\u001b[39m\u001b[38;5;124mIPython won\u001b[39m\u001b[38;5;124m'\u001b[39m\u001b[38;5;124mt let you open fd=\u001b[39m\u001b[38;5;132;01m{\u001b[39;00mfile\u001b[38;5;132;01m}\u001b[39;00m\u001b[38;5;124m by default \u001b[39m\u001b[38;5;124m\"\u001b[39m\n\u001b[1;32m    278\u001b[0m         \u001b[38;5;124m\"\u001b[39m\u001b[38;5;124mas it is likely to crash IPython. If you know what you are doing, \u001b[39m\u001b[38;5;124m\"\u001b[39m\n\u001b[1;32m    279\u001b[0m         \u001b[38;5;124m\"\u001b[39m\u001b[38;5;124myou can use builtins\u001b[39m\u001b[38;5;124m'\u001b[39m\u001b[38;5;124m open.\u001b[39m\u001b[38;5;124m\"\u001b[39m\n\u001b[1;32m    280\u001b[0m     )\n\u001b[0;32m--> 282\u001b[0m \u001b[38;5;28;01mreturn\u001b[39;00m \u001b[43mio_open\u001b[49m\u001b[43m(\u001b[49m\u001b[43mfile\u001b[49m\u001b[43m,\u001b[49m\u001b[43m \u001b[49m\u001b[38;5;241;43m*\u001b[39;49m\u001b[43margs\u001b[49m\u001b[43m,\u001b[49m\u001b[43m \u001b[49m\u001b[38;5;241;43m*\u001b[39;49m\u001b[38;5;241;43m*\u001b[39;49m\u001b[43mkwargs\u001b[49m\u001b[43m)\u001b[49m\n",
      "\u001b[0;31mFileNotFoundError\u001b[0m: [Errno 2] No such file or directory: 'example.txt'"
     ]
    }
   ],
   "source": [
    "with open(\"example.txt\", \"r\") as file:\n",
    "    data = file.read()\n",
    "#This code opens the file, reads its contents, and then automatically closes the file after the with statement has executed, even if an error occurs. \n",
    "#This helps to ensure that system resources are used efficiently and that the program is less likely to encounter problems related to file handling."
   ]
  },
  {
   "cell_type": "code",
   "execution_count": 17,
   "id": "3c912eb9-d355-4e36-948f-4f09a5b4d626",
   "metadata": {},
   "outputs": [],
   "source": [
    "#Q6. Explain the write() and writelines() functions. Give a suitable example\n",
    "\n",
    "#In Python, the write() and writelines() functions are used to write data to a file.\n",
    "\n",
    "#The write() function: is used to write a single string or character to a file. It takes a single argument, which is the string or character that you want to write to the file. \n",
    "#If the file does not exist, it will be created, and if it already exists, the content of the file will be overwritten.\n",
    "\n",
    "with open('file.txt', 'w') as file:\n",
    "    file.write('Hello, world!')"
   ]
  },
  {
   "cell_type": "code",
   "execution_count": 18,
   "id": "7e228b11-02ba-462d-b824-741572d515e0",
   "metadata": {},
   "outputs": [],
   "source": [
    "#The writelines() function, on the other hand, is used to write a list of strings to a file. Each string in the list will be written to a new line in the file.\n",
    "#The writelines() function takes a single argument, which is a list of strings.\n",
    "\n",
    "lines = ['This is the first line\\n', 'This is the second line\\n', 'This is the third line\\n']\n",
    "\n",
    "with open('file.txt', 'w') as file:\n",
    "    file.writelines(lines)"
   ]
  },
  {
   "cell_type": "code",
   "execution_count": null,
   "id": "11191a88-b53a-44dc-8700-52031565cab6",
   "metadata": {},
   "outputs": [],
   "source": []
  }
 ],
 "metadata": {
  "kernelspec": {
   "display_name": "Python 3 (ipykernel)",
   "language": "python",
   "name": "python3"
  },
  "language_info": {
   "codemirror_mode": {
    "name": "ipython",
    "version": 3
   },
   "file_extension": ".py",
   "mimetype": "text/x-python",
   "name": "python",
   "nbconvert_exporter": "python",
   "pygments_lexer": "ipython3",
   "version": "3.10.8"
  }
 },
 "nbformat": 4,
 "nbformat_minor": 5
}
